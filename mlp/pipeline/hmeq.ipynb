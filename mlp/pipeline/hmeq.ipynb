{
 "cells": [
  {
   "cell_type": "markdown",
   "metadata": {},
   "source": [
    "* [HMEQ](https://www.kaggle.com/ajay1735/hmeq-data) about the classification of home loan documents.\n",
    "\n",
    "1. Describe statistics & plot for continuous and category variables. Evaluating for distribution properties of each var.\n",
    "\n",
    "2. Completed 1 pipeline to processing raw data to useful data.\n",
    "\n",
    "3. Spilit train & test set and choose metric for problem.\n",
    "\n",
    "4. Choose model, cross-validation to training and evaluating in training set.\n",
    "\n",
    "5. Re do ex 4 with other models \n",
    "\n",
    "6. Plot result of model to choose best model.\n",
    "\n",
    "7. Based on best model, Grid Search in parameter space of it."
   ]
  }
 ],
 "metadata": {
  "language_info": {
   "name": "python"
  },
  "orig_nbformat": 4
 },
 "nbformat": 4,
 "nbformat_minor": 2
}
