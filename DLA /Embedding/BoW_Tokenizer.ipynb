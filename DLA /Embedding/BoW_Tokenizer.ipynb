{
  "nbformat": 4,
  "nbformat_minor": 0,
  "metadata": {
    "colab": {
      "name": "Tokenizer.ipynb",
      "provenance": [],
      "collapsed_sections": []
    },
    "kernelspec": {
      "name": "python3",
      "display_name": "Python 3"
    },
    "language_info": {
      "name": "python"
    }
  },
  "cells": [
    {
      "cell_type": "markdown",
      "source": [
        "# 1. Basic Code "
      ],
      "metadata": {
        "id": "iC0jYgWA9wJ6"
      }
    },
    {
      "cell_type": "code",
      "execution_count": 2,
      "metadata": {
        "id": "Psnz52Ox6LrB"
      },
      "outputs": [],
      "source": [
        "# Import Class Tokenizer to separating text with frequency\n",
        "from tensorflow.keras.preprocessing.text import Tokenizer"
      ]
    },
    {
      "cell_type": "code",
      "source": [
        "t1 = [\"You are my heart\",\n",
        "      \"You are my life\",\n",
        "      \"I love u so much\"]"
      ],
      "metadata": {
        "id": "zaRx65BS6m4_"
      },
      "execution_count": 3,
      "outputs": []
    },
    {
      "cell_type": "code",
      "source": [
        "# Init Object \n",
        "# 1 is Out of Vocabulary, sort by freq and where it places in text\n",
        "tokenizer = Tokenizer(oov_token = \"<OOV>\")\n",
        "\n",
        "# Fit text to class get vocab\n",
        "tokenizer.fit_on_texts(t1)\n",
        "\n",
        "# Return dict index word\n",
        "word_index = tokenizer.word_index\n",
        "# All word convert to lower\n",
        "word_index"
      ],
      "metadata": {
        "colab": {
          "base_uri": "https://localhost:8080/"
        },
        "id": "HeRH0zYB65nh",
        "outputId": "cb8b1161-8d3c-48d3-acb9-ccda66f5e325"
      },
      "execution_count": 4,
      "outputs": [
        {
          "output_type": "execute_result",
          "data": {
            "text/plain": [
              "{'<OOV>': 1,\n",
              " 'are': 3,\n",
              " 'heart': 5,\n",
              " 'i': 7,\n",
              " 'life': 6,\n",
              " 'love': 8,\n",
              " 'much': 11,\n",
              " 'my': 4,\n",
              " 'so': 10,\n",
              " 'u': 9,\n",
              " 'you': 2}"
            ]
          },
          "metadata": {},
          "execution_count": 4
        }
      ]
    },
    {
      "cell_type": "code",
      "source": [
        "# Test with other seq\n",
        "t2 = [\"i hate you\",\n",
        "    \"i love u but can't touch your heart\",\n",
        "    \"i am sorry\"\n",
        "]\n",
        "\n",
        "# Fit to vocab \n",
        "t2 = tokenizer.texts_to_sequences(t2)\n",
        "word_index = tokenizer.word_index\n",
        "word_index"
      ],
      "metadata": {
        "colab": {
          "base_uri": "https://localhost:8080/"
        },
        "id": "uS3SuIA47PFj",
        "outputId": "169836b3-5478-4c12-c078-64f080a978f8"
      },
      "execution_count": 5,
      "outputs": [
        {
          "output_type": "execute_result",
          "data": {
            "text/plain": [
              "{'<OOV>': 1,\n",
              " 'are': 3,\n",
              " 'heart': 5,\n",
              " 'i': 7,\n",
              " 'life': 6,\n",
              " 'love': 8,\n",
              " 'much': 11,\n",
              " 'my': 4,\n",
              " 'so': 10,\n",
              " 'u': 9,\n",
              " 'you': 2}"
            ]
          },
          "metadata": {},
          "execution_count": 5
        }
      ]
    },
    {
      "cell_type": "code",
      "source": [
        "# U can see, each matrix has diff size, so we need padding (same as CNN) to easy calculate\n",
        "print(t2)\n",
        "\n",
        "# U can add padding post, default is first \n",
        "from tensorflow.keras.preprocessing.sequence import pad_sequences\n",
        "padded = pad_sequences(t2, padding = \"post\")\n",
        "print(padded)"
      ],
      "metadata": {
        "colab": {
          "base_uri": "https://localhost:8080/"
        },
        "id": "7fhLG7eR8qth",
        "outputId": "9c4b7ccc-b049-4b0e-de7f-a7a38a4ea55e"
      },
      "execution_count": 11,
      "outputs": [
        {
          "output_type": "stream",
          "name": "stdout",
          "text": [
            "[[7, 1, 2], [7, 8, 9, 1, 1, 1, 1, 5], [7, 1, 1]]\n",
            "[[7 1 2 0 0 0 0 0]\n",
            " [7 8 9 1 1 1 1 5]\n",
            " [7 1 1 0 0 0 0 0]]\n"
          ]
        }
      ]
    },
    {
      "cell_type": "markdown",
      "source": [
        "# 2. Real Case"
      ],
      "metadata": {
        "id": "L6humZzJ90QU"
      }
    },
    {
      "cell_type": "code",
      "source": [
        "!wget --no-check-certificate \\\n",
        "    https://storage.googleapis.com/laurencemoroney-blog.appspot.com/sarcasm.json \\\n",
        "    -O /tmp/sarcasm.json"
      ],
      "metadata": {
        "colab": {
          "base_uri": "https://localhost:8080/"
        },
        "id": "ApRTe3g288UU",
        "outputId": "35b8a1b9-961c-4d46-fe41-90819f1236d1"
      },
      "execution_count": 12,
      "outputs": [
        {
          "output_type": "stream",
          "name": "stdout",
          "text": [
            "--2022-03-06 16:02:12--  https://storage.googleapis.com/laurencemoroney-blog.appspot.com/sarcasm.json\n",
            "Resolving storage.googleapis.com (storage.googleapis.com)... 142.250.157.128, 142.251.8.128, 64.233.188.128, ...\n",
            "Connecting to storage.googleapis.com (storage.googleapis.com)|142.250.157.128|:443... connected.\n",
            "HTTP request sent, awaiting response... 200 OK\n",
            "Length: 5643545 (5.4M) [application/json]\n",
            "Saving to: ‘/tmp/sarcasm.json’\n",
            "\n",
            "\r/tmp/sarcasm.json     0%[                    ]       0  --.-KB/s               \r/tmp/sarcasm.json   100%[===================>]   5.38M  --.-KB/s    in 0.04s   \n",
            "\n",
            "2022-03-06 16:02:13 (147 MB/s) - ‘/tmp/sarcasm.json’ saved [5643545/5643545]\n",
            "\n"
          ]
        }
      ]
    },
    {
      "cell_type": "code",
      "source": [
        "# Read Json file \n",
        "import json\n",
        "with open(\"/tmp/sarcasm.json\") as f:\n",
        "    data = json.load(f)\n",
        "\n",
        "data[:5]"
      ],
      "metadata": {
        "colab": {
          "base_uri": "https://localhost:8080/"
        },
        "id": "DMNgMy3X94YE",
        "outputId": "9927ee2d-20eb-4775-8c73-e73db1d54db3"
      },
      "execution_count": 14,
      "outputs": [
        {
          "output_type": "execute_result",
          "data": {
            "text/plain": [
              "[{'article_link': 'https://www.huffingtonpost.com/entry/versace-black-code_us_5861fbefe4b0de3a08f600d5',\n",
              "  'headline': \"former versace store clerk sues over secret 'black code' for minority shoppers\",\n",
              "  'is_sarcastic': 0},\n",
              " {'article_link': 'https://www.huffingtonpost.com/entry/roseanne-revival-review_us_5ab3a497e4b054d118e04365',\n",
              "  'headline': \"the 'roseanne' revival catches up to our thorny political mood, for better and worse\",\n",
              "  'is_sarcastic': 0},\n",
              " {'article_link': 'https://local.theonion.com/mom-starting-to-fear-son-s-web-series-closest-thing-she-1819576697',\n",
              "  'headline': \"mom starting to fear son's web series closest thing she will have to grandchild\",\n",
              "  'is_sarcastic': 1},\n",
              " {'article_link': 'https://politics.theonion.com/boehner-just-wants-wife-to-listen-not-come-up-with-alt-1819574302',\n",
              "  'headline': 'boehner just wants wife to listen, not come up with alternative debt-reduction ideas',\n",
              "  'is_sarcastic': 1},\n",
              " {'article_link': 'https://www.huffingtonpost.com/entry/jk-rowling-wishes-snape-happy-birthday_us_569117c4e4b0cad15e64fdcb',\n",
              "  'headline': 'j.k. rowling wishes snape happy birthday in the most magical way',\n",
              "  'is_sarcastic': 0}]"
            ]
          },
          "metadata": {},
          "execution_count": 14
        }
      ]
    },
    {
      "cell_type": "code",
      "source": [
        "sentences = [item['headline'] for item in data]\n",
        "tokenizer = Tokenizer(oov_token='<OOV>')\n",
        "tokenizer.fit_on_texts(sentences)\n",
        "word_index = tokenizer.word_index\n",
        "sequences = tokenizer.texts_to_sequences(sentences)"
      ],
      "metadata": {
        "id": "G4BY5Qf7-Tig"
      },
      "execution_count": 23,
      "outputs": []
    },
    {
      "cell_type": "code",
      "source": [
        "padded = pad_sequences(sequences, padding = \"post\")\n",
        "padded"
      ],
      "metadata": {
        "colab": {
          "base_uri": "https://localhost:8080/"
        },
        "id": "g8k5UHOu-ob5",
        "outputId": "b506ef84-4175-4543-8c06-b71a72d5ac43"
      },
      "execution_count": 22,
      "outputs": [
        {
          "output_type": "execute_result",
          "data": {
            "text/plain": [
              "array([[  308, 15115,   679, ...,     0,     0,     0],\n",
              "       [    4,  8435,  3338, ...,     0,     0,     0],\n",
              "       [  145,   838,     2, ...,     0,     0,     0],\n",
              "       ...,\n",
              "       [10735,     9,    68, ...,     0,     0,     0],\n",
              "       [ 1541,   392,  4164, ...,     0,     0,     0],\n",
              "       [29656,  1647,     6, ...,     0,     0,     0]], dtype=int32)"
            ]
          },
          "metadata": {},
          "execution_count": 22
        }
      ]
    }
  ]
}